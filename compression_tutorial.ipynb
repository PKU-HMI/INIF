{
 "cells": [
  {
   "cell_type": "markdown",
   "metadata": {},
   "source": [
    "# Install the required packages\n",
    "> ## make sure change the runtime type to GPU first ##\n",
    "![setup](INIF-instruction.png)\n"
   ]
  },
  {
   "cell_type": "code",
   "execution_count": null,
   "metadata": {},
   "outputs": [],
   "source": [
    "!git clone https://github.com/daviddaiiiii/INIF.git\n",
    "%cd /content/INIF\n",
    "%pwd\n",
    "!nvcc --version"
   ]
  },
  {
   "cell_type": "code",
   "execution_count": null,
   "metadata": {},
   "outputs": [],
   "source": [
    "!chmod +x setup.sh\n",
    "!./setup.sh"
   ]
  },
  {
   "cell_type": "markdown",
   "metadata": {},
   "source": [
    "# General compression using INIF "
   ]
  },
  {
   "cell_type": "code",
   "execution_count": 1,
   "metadata": {},
   "outputs": [
    {
     "name": "stderr",
     "output_type": "stream",
     "text": [
      "ERROR:absl:Oryx not found! This library will still work but no summarywill be logged.\n"
     ]
    }
   ],
   "source": [
    "import sys\n",
    "import os\n",
    "sys.path.append('..')\n",
    "import jax\n",
    "import jax.numpy as jnp\n",
    "import optax\n",
    "import ipywidgets as widgets\n",
    "from tqdm import tqdm\n",
    "from IPython.display import clear_output\n",
    "from utils import others, visualizer\n",
    "from models import INR, HEVC"
   ]
  },
  {
   "cell_type": "markdown",
   "metadata": {},
   "source": [
    "## 1. Read the raw data, set ROI and visualize the ROI"
   ]
  },
  {
   "cell_type": "code",
   "execution_count": 2,
   "metadata": {},
   "outputs": [
    {
     "name": "stdout",
     "output_type": "stream",
     "text": [
      "No files found in the directory.\n"
     ]
    }
   ],
   "source": [
    "# set the root directory\n",
    "root_directory = '/content/INIF/data'\n",
    "# set the default path, set to None if you want the first file in the directory\n",
    "defualt_path = '/content/INIF/data/hiPSC/AAVS1_10684_DNA.tiff'\n",
    "\n",
    "# fetch all the files in the root directory\n",
    "file_paths = []\n",
    "for subdir, dirs, files in os.walk(root_directory):\n",
    "    for file in files:\n",
    "        file_paths.append(os.path.join(subdir, file))\n",
    "\n",
    "# check if there are files in the directory\n",
    "if not file_paths:\n",
    "    print(\"No files found in the directory.\")\n",
    "else:\n",
    "    # create a dropdown menu\n",
    "    file_selector = widgets.Dropdown(\n",
    "        options=file_paths,\n",
    "        description='File path:',\n",
    "        value = defualt_path if defualt_path else file_paths[0],\n",
    "        disabled=False,\n",
    "        continuous_update=False\n",
    "    )\n",
    "    # display the dropdown menu\n",
    "    display(file_selector)"
   ]
  },
  {
   "cell_type": "code",
   "execution_count": 3,
   "metadata": {},
   "outputs": [
    {
     "ename": "NameError",
     "evalue": "name 'file_selector' is not defined",
     "output_type": "error",
     "traceback": [
      "\u001b[0;31m---------------------------------------------------------------------------\u001b[0m",
      "\u001b[0;31mNameError\u001b[0m                                 Traceback (most recent call last)",
      "Cell \u001b[0;32mIn[3], line 2\u001b[0m\n\u001b[1;32m      1\u001b[0m meta_data \u001b[38;5;241m=\u001b[39m {}\n\u001b[0;32m----> 2\u001b[0m raw_data \u001b[38;5;241m=\u001b[39m others\u001b[38;5;241m.\u001b[39mread_data(\u001b[43mfile_selector\u001b[49m\u001b[38;5;241m.\u001b[39mvalue, meta_data)\n",
      "\u001b[0;31mNameError\u001b[0m: name 'file_selector' is not defined"
     ]
    }
   ],
   "source": [
    "meta_data = {}\n",
    "raw_data = others.read_data(file_selector.value, meta_data)"
   ]
  },
  {
   "cell_type": "code",
   "execution_count": null,
   "metadata": {},
   "outputs": [
    {
     "name": "stdout",
     "output_type": "stream",
     "text": [
      "The shape of the ROI data is: {'dim0': 60, 'X': 441, 'Y': 555}\n",
      "The size of the ROI data is: 33.290459632873535 MB\n",
      "The data type of the raw data is: uint16\n",
      "The max value of the raw data is: 992, and the min value is: 34\n"
     ]
    },
    {
     "data": {
      "application/vnd.jupyter.widget-view+json": {
       "model_id": "3b778c8a40e841169819930d75beb05c",
       "version_major": 2,
       "version_minor": 0
      },
      "text/plain": [
       "HBox(children=(IntSlider(value=30, continuous_update=False, description='dim0', max=59),))"
      ]
     },
     "metadata": {},
     "output_type": "display_data"
    },
    {
     "data": {
      "application/vnd.jupyter.widget-view+json": {
       "model_id": "7f831c2b193a41019c09f3ad7950c6c8",
       "version_major": 2,
       "version_minor": 0
      },
      "text/plain": [
       "Output()"
      ]
     },
     "metadata": {},
     "output_type": "display_data"
    }
   ],
   "source": [
    "# use slicing method to get the data you want\n",
    "ROI_data = raw_data # ex: raw_data[0:100, 0:100, 0:100]\n",
    "ROI_data = others.preprocess(ROI_data, meta_data)\n",
    "visual_tracker = visualizer.DataVisualizer(ROI_data, meta_data['shape'])"
   ]
  },
  {
   "cell_type": "markdown",
   "metadata": {},
   "source": [
    "## 2. Setup compression configs"
   ]
  },
  {
   "cell_type": "code",
   "execution_count": null,
   "metadata": {},
   "outputs": [
    {
     "data": {
      "application/vnd.jupyter.widget-view+json": {
       "model_id": "e9f63d299e304617a86145fd0ae3faee",
       "version_major": 2,
       "version_minor": 0
      },
      "text/plain": [
       "IntSlider(value=256, continuous_update=False, description='Compression Ratio:', max=2048, min=1, step=16, styl…"
      ]
     },
     "metadata": {},
     "output_type": "display_data"
    },
    {
     "data": {
      "application/vnd.jupyter.widget-view+json": {
       "model_id": "20efaa72209f4f468326df14522c9aaa",
       "version_major": 2,
       "version_minor": 0
      },
      "text/plain": [
       "IntSlider(value=40000, continuous_update=False, description='Number of Iterations:', max=50000, min=500, step=…"
      ]
     },
     "metadata": {},
     "output_type": "display_data"
    },
    {
     "data": {
      "application/vnd.jupyter.widget-view+json": {
       "model_id": "0dba0905b5654714a31a897fb69075cc",
       "version_major": 2,
       "version_minor": 0
      },
      "text/plain": [
       "IntSlider(value=2000000, continuous_update=False, description='Batch Size:', max=14685300, min=1, style=Slider…"
      ]
     },
     "metadata": {},
     "output_type": "display_data"
    },
    {
     "data": {
      "application/vnd.jupyter.widget-view+json": {
       "model_id": "217663bd9abf43dba2c95903b215be24",
       "version_major": 2,
       "version_minor": 0
      },
      "text/plain": [
       "Dropdown(description='Model Type:', index=2, options=('INIF', 'SIREN', 'HEVC'), value='HEVC')"
      ]
     },
     "metadata": {},
     "output_type": "display_data"
    },
    {
     "data": {
      "application/vnd.jupyter.widget-view+json": {
       "model_id": "27bab1fb1ba54b4dafe14ed135b8322c",
       "version_major": 2,
       "version_minor": 0
      },
      "text/plain": [
       "Button(description='Apply', style=ButtonStyle())"
      ]
     },
     "metadata": {},
     "output_type": "display_data"
    },
    {
     "data": {
      "application/vnd.jupyter.widget-view+json": {
       "model_id": "f599156756614adea62bd0340bfb2459",
       "version_major": 2,
       "version_minor": 0
      },
      "text/plain": [
       "Output()"
      ]
     },
     "metadata": {},
     "output_type": "display_data"
    }
   ],
   "source": [
    "# ask for the compression ratio, the number of iterations, and the model type\n",
    "ratio_slider = widgets.IntSlider(\n",
    "    value=256,  # defualt value\n",
    "    min=1,      # minimum value\n",
    "    max=2048,   # maximum value    \n",
    "    step=16,     # step value\n",
    "    description=f'Compression Ratio:',\n",
    "    continuous_update=False,\n",
    "    style={'description_width': 'initial'},\n",
    "    \n",
    ")\n",
    "iteration_slider = widgets.IntSlider(\n",
    "    value=5000,  # defualt value\n",
    "    min=500,     # minimum value\n",
    "    max=50000,   # maximum value\n",
    "    step=500,    # step value\n",
    "    description='Number of Iterations:',\n",
    "    continuous_update=False,\n",
    "    style={'description_width': 'initial'}\n",
    ")\n",
    "batch_size_slider = widgets.IntSlider(\n",
    "    value = min(ROI_data.size, 100000), # default value\n",
    "    min = 1, # minimum value\n",
    "    max = ROI_data.size, # maximum value\n",
    "    step = 1, # step value\n",
    "    description = 'Batch Size:',\n",
    "    continuous_update = False,\n",
    "    style = {'description_width': 'initial'}\n",
    ")\n",
    "model_selector = widgets.Dropdown(\n",
    "    options=['INIF', 'SIREN', 'HEVC'],\n",
    "    value='INIF', # default value\n",
    "    description='Model Type:',\n",
    "    disabled=False,\n",
    "    continuous_update=False\n",
    ")\n",
    "apply_button = widgets.Button(description='Apply')\n",
    "output = widgets.Output()\n",
    "def on_apply_button_clicked(b):\n",
    "    # apply the configuration\n",
    "    with output:\n",
    "        output.clear_output()\n",
    "        current_ratio = ratio_slider.value\n",
    "        current_iteration_number = iteration_slider.value\n",
    "        current_batch_size = batch_size_slider.value\n",
    "        current_model = model_selector.value\n",
    "        print(f\"Current compression ratio: {current_ratio}x\")\n",
    "        print(f\"Current number of iterations: {current_iteration_number}\")\n",
    "        print(f\"Current batch size: {current_batch_size} = {current_batch_size/ROI_data.size*100 :4f}% of total {ROI_data.size} points\")\n",
    "        print(f\"Current model type: {current_model}\")\n",
    "apply_button.on_click(on_apply_button_clicked)\n",
    "display(ratio_slider, iteration_slider, batch_size_slider, model_selector, apply_button, output)"
   ]
  },
  {
   "cell_type": "code",
   "execution_count": null,
   "metadata": {},
   "outputs": [
    {
     "data": {
      "image/png": "[encoded data removed]",
      "text/plain": [
       "<Figure size 800x400 with 1 Axes>"
      ]
     },
     "metadata": {},
     "output_type": "display_data"
    }
   ],
   "source": [
    "meta_data['ratio'] = ratio_slider.value\n",
    "meta_data['iteration_number'] = iteration_slider.value\n",
    "meta_data['batch_size'] = batch_size_slider.value\n",
    "meta_data['model'] = {}\n",
    "meta_data['model']['name']= model_selector.value\n",
    "meta_data['visualize_idx'] = visual_tracker.get_indices()\n",
    "visualizer.display_metadata(meta_data)"
   ]
  },
  {
   "cell_type": "markdown",
   "metadata": {},
   "source": [
    "## 3. Initialize the model"
   ]
  },
  {
   "cell_type": "code",
   "execution_count": null,
   "metadata": {},
   "outputs": [],
   "source": [
    "\n",
    "if meta_data['model']['name'] == 'HEVC':\n",
    "    ROI_data = others.denorm(ROI_data, meta_data)\n",
    "    ROI_data = ROI_data.astype(meta_data['dtype'])\n",
    "else:\n",
    "    sampler = others.Sampler(ROI_data, meta_data)\n",
    "    model, params, opt, opt_state = INR.get_model_param_opt_optstate(meta_data)"
   ]
  },
  {
   "cell_type": "markdown",
   "metadata": {},
   "source": [
    "## 4. Define the training loop"
   ]
  },
  {
   "cell_type": "code",
   "execution_count": null,
   "metadata": {},
   "outputs": [],
   "source": [
    "def loss(params, key, model, x, y, aux_loss):\n",
    "    pred = model.apply(params, key, x)\n",
    "    mse = jnp.mean((pred - y)**2)\n",
    "    total_loss = mse + aux_loss\n",
    "    return total_loss, (mse, aux_loss)\n",
    "\n",
    "def update(params, opt, opt_state, model, x, y, aux_loss = 0):\n",
    "    (loss_val, (mse, aux_loss)), grads = jax.value_and_grad(loss, has_aux=True)(params, None, model, x, y, aux_loss)\n",
    "    updates, new_opt_state = opt.update(grads, opt_state, params, extra_args={'loss': loss_val})\n",
    "    new_params = optax.apply_updates(params, updates)\n",
    "    return loss_val, new_params, new_opt_state, mse, aux_loss\n",
    "\n",
    "def auto_pre_check_INR(meta_data, model, params, opt, opt_state, sampler):        \n",
    "    while True:\n",
    "        try:\n",
    "            # Attempt to train with the current batch size\n",
    "            print(f'Trying batch size: {sampler.batch_size}')\n",
    "            x, y = sampler.next()\n",
    "            loss_val, params, opt_state, mse, aux_loss = update(params, opt, opt_state, model, x, y)\n",
    "            break  # If successful, break out of the loop\n",
    "        except:\n",
    "            # If an exception occurs, reduce the batch size\n",
    "            print(f\"Failed. Reducing batch size automatically...\")\n",
    "            if sampler.batch_size < 1:\n",
    "                raise ValueError(\"Batch size cannot be reduced below 1.\")\n",
    "            sampler.batch_size = round(sampler.batch_size*0.9) # Set new batch size in the sampler\n",
    "\n",
    "    meta_data['batch_size'] = sampler.batch_size\n",
    "    meta_data['loop_number'] = meta_data[\"iteration_number\"]*sampler.batch_size/ROI_data.size\n",
    "    print(f'Batch size: {sampler.batch_size}, Iteration number: {meta_data[\"iteration_number\"]}')\n",
    "    print(f'We approximately loop trough the data {meta_data[\"loop_number\"] : 4f} times')\n",
    "    print('########## Metadata ##########')\n",
    "    visualizer.display_metadata(meta_data)\n",
    "        \n",
    "def auto_pre_check_HEVC(meta_data, data, crf_min=0, crf_max=51, tolerance=1, max_iterations=10):\n",
    "    target_ratio = meta_data['ratio']\n",
    "    iteration = 0\n",
    "    while crf_min < crf_max and iteration < max_iterations:\n",
    "        iteration += 1\n",
    "        crf_mid = (crf_min + crf_max) / 2  # current CRF\n",
    "        \n",
    "        # test the current CRF\n",
    "        meta_data['crf'] = crf_mid\n",
    "        actual_ratio = HEVC.compress(data, meta_data)\n",
    "        diff = abs(actual_ratio - target_ratio)\n",
    "        \n",
    "        if diff <= tolerance:  # if the difference is within the tolerance, return the CRF\n",
    "            exit(f'CRF: {crf_mid}, Actual Ratio: {actual_ratio}, Target Ratio: {target_ratio}')\n",
    "        elif actual_ratio > target_ratio:  # if the actual ratio is less than the target ratio, decrease CRF\n",
    "            crf_max = crf_mid\n",
    "        else:  # if the actual ratio is greater than the target ratio, increase CRF\n",
    "            crf_min = crf_mid\n",
    "\n",
    "    # if the loop ends without finding the CRF, return the average of the min and max CRF\n",
    "    meta_data['crf'] = (crf_min + crf_max) / 2\n",
    "    print('########## Metadata ##########')\n",
    "    visualizer.display_metadata(meta_data)\n",
    "    \n",
    "        \n",
    " \n",
    "def train(meta_data, model, params, opt, opt_state, sampler):\n",
    "    print('########## Compressing ##########')\n",
    "    iteration_number = meta_data['iteration_number']\n",
    "    progress_bar = tqdm(range(iteration_number))\n",
    "    for step in progress_bar:\n",
    "        x, y = sampler.next()\n",
    "        loss_val, params, opt_state, mse, aux_loss = update( params, opt, opt_state, model, x, y)\n",
    "        progress_bar.set_description(f'Loss: {loss_val:.6f},  MSE: {mse:.6f}, Aux Loss: {aux_loss:.6f}')\n",
    "        if step % 100 == 0:\n",
    "            # clean the previous plots\n",
    "            slice_coords, image_shape = visualizer.get_slice( meta_data, meta_data['visualize_idx'], downsample_ratio=2)\n",
    "            slice_values = ROI_data[meta_data['visualize_idx']] \n",
    "            decode_image = model.apply(params, None, slice_coords).reshape(image_shape)\n",
    "            clear_output(wait=True)\n",
    "            visualizer.plot2d(slice_values)\n",
    "            visualizer.plot2d(decode_image)\n",
    "    return meta_data, model, params\n"
   ]
  },
  {
   "cell_type": "markdown",
   "metadata": {},
   "source": [
    "## 5. Final check before compression\n",
    "> We will automatically search for hyperparameters (CRF, batch size etc.)"
   ]
  },
  {
   "cell_type": "code",
   "execution_count": null,
   "metadata": {},
   "outputs": [
    {
     "name": "stdout",
     "output_type": "stream",
     "text": [
      "Padded image shape (60, 442, 556, 1)\n",
      "Compressed Done!\n",
      "HEVC CRF:25.5, compressed bpp:547.6526822041429\n",
      "Original_MB:33.290459632873535MB\n",
      "compressed_MB:0.0061969757080078125MB\n",
      "target ratio : 256\n",
      "actual ratio : 5372.049399815328\n",
      "Remove ../save/test.mp4\n",
      "Padded image shape (60, 442, 556, 1)\n",
      "Compressed Done!\n",
      "HEVC CRF:12.75, compressed bpp:547.6526822041429\n",
      "Original_MB:33.290459632873535MB\n",
      "compressed_MB:0.01897907257080078MB\n",
      "target ratio : 256\n",
      "actual ratio : 1754.0614541982816\n",
      "Remove ../save/test.mp4\n",
      "Padded image shape (60, 442, 556, 1)\n",
      "Compressed Done!\n",
      "HEVC CRF:6.375, compressed bpp:547.6526822041429\n",
      "Original_MB:33.290459632873535MB\n",
      "compressed_MB:0.029384613037109375MB\n",
      "target ratio : 256\n",
      "actual ratio : 1132.921491626639\n",
      "Remove ../save/test.mp4\n",
      "Padded image shape (60, 442, 556, 1)\n",
      "Compressed Done!\n",
      "HEVC CRF:3.1875, compressed bpp:547.6526822041429\n",
      "Original_MB:33.290459632873535MB\n",
      "compressed_MB:0.029557228088378906MB\n",
      "target ratio : 256\n",
      "actual ratio : 1126.3051979479237\n",
      "Remove ../save/test.mp4\n",
      "Padded image shape (60, 442, 556, 1)\n",
      "Compressed Done!\n",
      "HEVC CRF:1.59375, compressed bpp:547.6526822041429\n",
      "Original_MB:33.290459632873535MB\n",
      "compressed_MB:0.029720306396484375MB\n",
      "target ratio : 256\n",
      "actual ratio : 1120.1250481324605\n",
      "Remove ../save/test.mp4\n",
      "Padded image shape (60, 442, 556, 1)\n",
      "Compressed Done!\n",
      "HEVC CRF:0.796875, compressed bpp:547.6526822041429\n",
      "Original_MB:33.290459632873535MB\n",
      "compressed_MB:0.029631614685058594MB\n",
      "target ratio : 256\n",
      "actual ratio : 1123.4777445206141\n",
      "Remove ../save/test.mp4\n",
      "Padded image shape (60, 442, 556, 1)\n",
      "Compressed Done!\n",
      "HEVC CRF:0.3984375, compressed bpp:547.6526822041429\n",
      "Original_MB:33.290459632873535MB\n",
      "compressed_MB:0.029631614685058594MB\n",
      "target ratio : 256\n",
      "actual ratio : 1123.4777445206141\n",
      "Remove ../save/test.mp4\n",
      "Padded image shape (60, 442, 556, 1)\n",
      "Compressed Done!\n",
      "HEVC CRF:0.19921875, compressed bpp:547.6526822041429\n",
      "Original_MB:33.290459632873535MB\n",
      "compressed_MB:0.029567718505859375MB\n",
      "target ratio : 256\n",
      "actual ratio : 1125.9055928267321\n",
      "Remove ../save/test.mp4\n",
      "Padded image shape (60, 442, 556, 1)\n",
      "Compressed Done!\n",
      "HEVC CRF:0.099609375, compressed bpp:547.6526822041429\n",
      "Original_MB:33.290459632873535MB\n",
      "compressed_MB:0.029567718505859375MB\n",
      "target ratio : 256\n",
      "actual ratio : 1125.9055928267321\n",
      "Remove ../save/test.mp4\n",
      "Padded image shape (60, 442, 556, 1)\n",
      "Compressed Done!\n",
      "HEVC CRF:0.0498046875, compressed bpp:547.6526822041429\n",
      "Original_MB:33.290459632873535MB\n",
      "compressed_MB:0.029567718505859375MB\n",
      "target ratio : 256\n",
      "actual ratio : 1125.9055928267321\n",
      "Remove ../save/test.mp4\n",
      "########## Metadata ##########\n"
     ]
    },
    {
     "data": {
      "image/png": "[encoded data removed]",
      "text/plain": [
       "<Figure size 800x400 with 1 Axes>"
      ]
     },
     "metadata": {},
     "output_type": "display_data"
    }
   ],
   "source": [
    "if meta_data['model']['name'] == 'HEVC':\n",
    "    auto_pre_check_HEVC(meta_data, ROI_data)\n",
    "else:\n",
    "    auto_pre_check_INR(meta_data, model, params, opt, opt_state, sampler)"
   ]
  },
  {
   "cell_type": "markdown",
   "metadata": {},
   "source": [
    "## 6. Training the model"
   ]
  },
  {
   "cell_type": "code",
   "execution_count": null,
   "metadata": {},
   "outputs": [
    {
     "name": "stdout",
     "output_type": "stream",
     "text": [
      "Padded image shape (60, 442, 556, 1)\n",
      "Compressed Done!\n",
      "HEVC CRF:0.02490234375, compressed bpp:547.6526822041429\n",
      "Original_MB:33.290459632873535MB\n",
      "compressed_MB:0.029567718505859375MB\n",
      "target ratio : 256\n",
      "actual ratio : 1125.9055928267321\n"
     ]
    },
    {
     "data": {
      "application/vnd.jupyter.widget-view+json": {
       "model_id": "1465a5e9ede14b0c8d33fb44511b3ffa",
       "version_major": 2,
       "version_minor": 0
      },
      "text/plain": [
       "HBox(children=(IntSlider(value=30, continuous_update=False, description='dim0', max=59),))"
      ]
     },
     "metadata": {},
     "output_type": "display_data"
    },
    {
     "data": {
      "application/vnd.jupyter.widget-view+json": {
       "model_id": "08ffa209304e4733bc3eec40d2a0ac03",
       "version_major": 2,
       "version_minor": 0
      },
      "text/plain": [
       "Output()"
      ]
     },
     "metadata": {},
     "output_type": "display_data"
    }
   ],
   "source": [
    "if meta_data['model']['name'] == 'HEVC':\n",
    "    save_name = f'/content/INIF/save/HEVC_name_{meta_data[\"name\"]}_ratio_{meta_data[\"ratio\"]}_crf_{meta_data[\"crf\"]}.mp4'\n",
    "    HEVC.compress(ROI_data, meta_data, save_name, test_only=False)\n",
    "    decompressed_data = HEVC.decompress(save_name,meta_data)\n",
    "    visualizer.DataVisualizer(decompressed_data, meta_data['shape'])\n",
    "else:\n",
    "    meta, model, params = train(meta_data, model, params, opt, opt_state, sampler)"
   ]
  },
  {
   "cell_type": "markdown",
   "metadata": {},
   "source": [
    "## 7. Save file"
   ]
  },
  {
   "cell_type": "code",
   "execution_count": null,
   "metadata": {},
   "outputs": [
    {
     "name": "stdout",
     "output_type": "stream",
     "text": [
      "Moving the compressed video to ../save/HEVC_name_TNNI1_ratio_256_crf_0.02490234375\n",
      "saved at ../save/HEVC_name_TNNI1_ratio_256_crf_0.02490234375/meta_data.pkl\n"
     ]
    }
   ],
   "source": [
    "if meta_data['model']['name'] != 'HEVC':\n",
    "    others.save(meta_data, params, dir = '/content/INIF/save')\n",
    "else:\n",
    "    # we move the mp4 and the metadata to the save folder\n",
    "    folder_path = save_name.split('.mp4')[0]\n",
    "    os.makedirs(folder_path, exist_ok=True)\n",
    "    os.rename(save_name, f'{folder_path}/compressed.mp4')\n",
    "    others.save(meta_data, None, folder_path)"
   ]
  },
  {
   "cell_type": "markdown",
   "metadata": {},
   "source": [
    "## 8. Decode file\n",
    "> You can decode INIF at any pixel independently.\n",
    "![decoded](INIF-decode.png)"
   ]
  },
  {
   "cell_type": "code",
   "execution_count": 1,
   "metadata": {},
   "outputs": [
    {
     "ename": "NameError",
     "evalue": "name 'os' is not defined",
     "output_type": "error",
     "traceback": [
      "\u001b[0;31m---------------------------------------------------------------------------\u001b[0m",
      "\u001b[0;31mNameError\u001b[0m                                 Traceback (most recent call last)",
      "Cell \u001b[0;32mIn[1], line 8\u001b[0m\n\u001b[1;32m      6\u001b[0m \u001b[38;5;66;03m# fetch all the files in the root directory\u001b[39;00m\n\u001b[1;32m      7\u001b[0m file_paths \u001b[38;5;241m=\u001b[39m []\n\u001b[0;32m----> 8\u001b[0m \u001b[38;5;28;01mfor\u001b[39;00m subdir, dirs, files \u001b[38;5;129;01min\u001b[39;00m \u001b[43mos\u001b[49m\u001b[38;5;241m.\u001b[39mwalk(root_directory):\n\u001b[1;32m      9\u001b[0m     \u001b[38;5;28;01mfor\u001b[39;00m file \u001b[38;5;129;01min\u001b[39;00m files:\n\u001b[1;32m     10\u001b[0m         file_paths\u001b[38;5;241m.\u001b[39mappend(os\u001b[38;5;241m.\u001b[39mpath\u001b[38;5;241m.\u001b[39mjoin(subdir, file))\n",
      "\u001b[0;31mNameError\u001b[0m: name 'os' is not defined"
     ]
    }
   ],
   "source": [
    "# set the root directory\n",
    "root_directory = '/content/INIF/save'\n",
    "# set the default path, set to None if you want the first file in the directory\n",
    "defualt_path = '/content/INIF/save/INR/INIF_name_Tile_1_processed_binned-2b_ratio_256.0_loop_num_ 17.584423.pkl'\n",
    "\n",
    "# fetch all the files in the root directory\n",
    "file_paths = []\n",
    "for subdir, dirs, files in os.walk(root_directory):\n",
    "    for file in files:\n",
    "        file_paths.append(os.path.join(subdir, file))\n",
    "\n",
    "# check if there are files in the directory\n",
    "if not file_paths:\n",
    "    print(\"No files found in the directory.\")\n",
    "else:\n",
    "    # create a dropdown menu\n",
    "    file_selector = widgets.Dropdown(\n",
    "        options=file_paths,\n",
    "        description='File path:',\n",
    "        value = defualt_path if defualt_path else file_paths[0],\n",
    "        disabled=False,\n",
    "        continuous_update=False\n",
    "    )\n",
    "    # display the dropdown menu\n",
    "    display(file_selector)"
   ]
  },
  {
   "cell_type": "code",
   "execution_count": null,
   "metadata": {},
   "outputs": [],
   "source": [
    "params, meta_data = others.load(file_selector.value)\n",
    "visualizer.display_metadata(meta_data)\n",
    "model, _ = INR.get_model_param(meta_data)\n"
   ]
  },
  {
   "cell_type": "code",
   "execution_count": null,
   "metadata": {},
   "outputs": [],
   "source": [
    "slice_idx = meta_data['visualize_idx']\n",
    "print(f'Visualize slice index : {slice_idx}') # copy this index and edit to visualize other location\n",
    "downsample_ratio = 1 # preview image with downsample ratio\n",
    "slice_coord, image_shape = visualizer.get_slice(meta_data, slice_idx, downsample_ratio)\n",
    "decode_image = model.apply(params, None, slice_coord).reshape(image_shape)\n",
    "visualizer.plot2d(decode_image, cmap = 'gray') # cmaps: 'gray', 'jet', 'hot', 'bone', 'cubehelix', 'viridis', 'inferno', 'magma', 'plasma', 'cividis'"
   ]
  }
 ],
 "metadata": {
  "kernelspec": {
   "display_name": "silen",
   "language": "python",
   "name": "python3"
  },
  "language_info": {
   "codemirror_mode": {
    "name": "ipython",
    "version": 3
   },
   "file_extension": ".py",
   "mimetype": "text/x-python",
   "name": "python",
   "nbconvert_exporter": "python",
   "pygments_lexer": "ipython3",
   "version": "3.10.14"
  }
 },
 "nbformat": 4,
 "nbformat_minor": 2
}
